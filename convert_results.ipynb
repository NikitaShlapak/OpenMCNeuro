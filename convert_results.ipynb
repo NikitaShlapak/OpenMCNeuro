{
 "cells": [
  {
   "cell_type": "code",
   "execution_count": 1,
   "id": "initial_id",
   "metadata": {
    "jupyter": {
     "is_executing": true
    }
   },
   "outputs": [],
   "source": [
    "import json\n",
    "import os\n",
    "\n",
    "import openmc\n",
    "import pandas as pd\n",
    "from lxml import etree\n",
    "from tqdm import tqdm\n",
    "\n",
    "from utils.resulting import DepletionResultReader"
   ]
  },
  {
   "cell_type": "code",
   "execution_count": 2,
   "id": "3baee0f683d89fbb",
   "metadata": {
    "ExecuteTime": {
     "end_time": "2024-12-01T19:54:34.663661Z",
     "start_time": "2024-12-01T19:54:34.659722Z"
    }
   },
   "outputs": [
    {
     "data": {
      "text/plain": [
       "['0', '1', '4', '6']"
      ]
     },
     "execution_count": 2,
     "metadata": {},
     "output_type": "execute_result"
    }
   ],
   "source": [
    "results_path = \"results/depletion/v5/\"\n",
    "os.listdir(results_path)"
   ]
  },
  {
   "cell_type": "code",
   "execution_count": 3,
   "id": "389d1b793a19c695",
   "metadata": {
    "ExecuteTime": {
     "end_time": "2024-12-01T19:54:55.200086Z",
     "start_time": "2024-12-01T19:54:35.330577Z"
    }
   },
   "outputs": [
    {
     "ename": "KeyboardInterrupt",
     "evalue": "",
     "output_type": "error",
     "traceback": [
      "\u001b[31m---------------------------------------------------------------------------\u001b[39m",
      "\u001b[31mKeyboardInterrupt\u001b[39m                         Traceback (most recent call last)",
      "\u001b[36mCell\u001b[39m\u001b[36m \u001b[39m\u001b[32mIn[3]\u001b[39m\u001b[32m, line 1\u001b[39m\n\u001b[32m----> \u001b[39m\u001b[32m1\u001b[39m res = \u001b[43mDepletionResultReader\u001b[49m\u001b[43m(\u001b[49m\u001b[43mresults_path\u001b[49m\u001b[43m \u001b[49m\u001b[43m+\u001b[49m\u001b[43m \u001b[49m\u001b[43mos\u001b[49m\u001b[43m.\u001b[49m\u001b[43mlistdir\u001b[49m\u001b[43m(\u001b[49m\u001b[43mresults_path\u001b[49m\u001b[43m)\u001b[49m\u001b[43m[\u001b[49m\u001b[32;43m0\u001b[39;49m\u001b[43m]\u001b[49m\u001b[43m \u001b[49m\u001b[43m+\u001b[49m\u001b[43m \u001b[49m\u001b[33;43m\"\u001b[39;49m\u001b[33;43m/depletion_results.h5\u001b[39;49m\u001b[33;43m\"\u001b[39;49m\u001b[43m,\u001b[49m\u001b[43m \u001b[49m\u001b[43mfuel_mat\u001b[49m\u001b[43m=\u001b[49m\u001b[33;43m'\u001b[39;49m\u001b[33;43m2\u001b[39;49m\u001b[33;43m'\u001b[39;49m\u001b[43m)\u001b[49m\n\u001b[32m      2\u001b[39m res.data\n",
      "\u001b[36mFile \u001b[39m\u001b[32m/OpenMCNeuro/utils/resulting.py:15\u001b[39m, in \u001b[36mDepletionResultReader.__init__\u001b[39m\u001b[34m(self, file_path, fuel_mat, isotopes_list)\u001b[39m\n\u001b[32m     13\u001b[39m \u001b[38;5;28;01mdef\u001b[39;00m\u001b[38;5;250m \u001b[39m\u001b[34m__init__\u001b[39m(\u001b[38;5;28mself\u001b[39m, file_path: \u001b[38;5;28mstr\u001b[39m, fuel_mat: \u001b[38;5;28mstr\u001b[39m = \u001b[33m'\u001b[39m\u001b[33mFuel\u001b[39m\u001b[33m'\u001b[39m, isotopes_list=\u001b[38;5;28;01mNone\u001b[39;00m):\n\u001b[32m     14\u001b[39m     \u001b[38;5;28msuper\u001b[39m().\u001b[34m__init__\u001b[39m(file_path)\n\u001b[32m---> \u001b[39m\u001b[32m15\u001b[39m     \u001b[38;5;28mself\u001b[39m.data = \u001b[43mResults\u001b[49m\u001b[43m(\u001b[49m\u001b[43mfile_path\u001b[49m\u001b[43m)\u001b[49m\n\u001b[32m     16\u001b[39m     \u001b[38;5;28mself\u001b[39m.units = UnitConfig()\n\u001b[32m     17\u001b[39m     \u001b[38;5;28mself\u001b[39m.fuel_mat = fuel_mat\n",
      "\u001b[36mFile \u001b[39m\u001b[32m/openmc_venv/lib/python3.11/site-packages/openmc/deplete/results.py:76\u001b[39m, in \u001b[36mResults.__init__\u001b[39m\u001b[34m(self, filename)\u001b[39m\n\u001b[32m     73\u001b[39m         n = fh[\u001b[33m\"\u001b[39m\u001b[33mnumber\u001b[39m\u001b[33m\"\u001b[39m][...].shape[\u001b[32m0\u001b[39m]\n\u001b[32m     75\u001b[39m         \u001b[38;5;28;01mfor\u001b[39;00m i \u001b[38;5;129;01min\u001b[39;00m \u001b[38;5;28mrange\u001b[39m(n):\n\u001b[32m---> \u001b[39m\u001b[32m76\u001b[39m             data.append(\u001b[43mStepResult\u001b[49m\u001b[43m.\u001b[49m\u001b[43mfrom_hdf5\u001b[49m\u001b[43m(\u001b[49m\u001b[43mfh\u001b[49m\u001b[43m,\u001b[49m\u001b[43m \u001b[49m\u001b[43mi\u001b[49m\u001b[43m)\u001b[49m)\n\u001b[32m     77\u001b[39m \u001b[38;5;28msuper\u001b[39m().\u001b[34m__init__\u001b[39m(data)\n",
      "\u001b[36mFile \u001b[39m\u001b[32m/openmc_venv/lib/python3.11/site-packages/openmc/deplete/stepresult.py:490\u001b[39m, in \u001b[36mStepResult.from_hdf5\u001b[39m\u001b[34m(cls, handle, step)\u001b[39m\n\u001b[32m    487\u001b[39m     results.index_mat[mat] = ind\n\u001b[32m    489\u001b[39m \u001b[38;5;28;01mfor\u001b[39;00m nuc, nuc_handle \u001b[38;5;129;01min\u001b[39;00m handle[\u001b[33m\"\u001b[39m\u001b[33m/nuclides\u001b[39m\u001b[33m\"\u001b[39m].items():\n\u001b[32m--> \u001b[39m\u001b[32m490\u001b[39m     ind_atom = \u001b[43mnuc_handle\u001b[49m\u001b[43m.\u001b[49m\u001b[43mattrs\u001b[49m\u001b[43m[\u001b[49m\u001b[33;43m\"\u001b[39;49m\u001b[33;43matom number index\u001b[39;49m\u001b[33;43m\"\u001b[39;49m\u001b[43m]\u001b[49m\n\u001b[32m    491\u001b[39m     results.index_nuc[nuc] = ind_atom\n\u001b[32m    493\u001b[39m     \u001b[38;5;28;01mif\u001b[39;00m \u001b[33m\"\u001b[39m\u001b[33mreaction rate index\u001b[39m\u001b[33m\"\u001b[39m \u001b[38;5;129;01min\u001b[39;00m nuc_handle.attrs:\n",
      "\u001b[36mFile \u001b[39m\u001b[32mh5py/_objects.pyx:54\u001b[39m, in \u001b[36mh5py._objects.with_phil.wrapper\u001b[39m\u001b[34m()\u001b[39m\n",
      "\u001b[36mFile \u001b[39m\u001b[32mh5py/_objects.pyx:55\u001b[39m, in \u001b[36mh5py._objects.with_phil.wrapper\u001b[39m\u001b[34m()\u001b[39m\n",
      "\u001b[36mFile \u001b[39m\u001b[32m/openmc_venv/lib/python3.11/site-packages/h5py/_hl/attrs.py:63\u001b[39m, in \u001b[36mAttributeManager.__getitem__\u001b[39m\u001b[34m(self, name)\u001b[39m\n\u001b[32m     60\u001b[39m \u001b[38;5;28;01mif\u001b[39;00m shape \u001b[38;5;129;01mis\u001b[39;00m \u001b[38;5;28;01mNone\u001b[39;00m:\n\u001b[32m     61\u001b[39m     \u001b[38;5;28;01mreturn\u001b[39;00m Empty(attr.dtype)\n\u001b[32m---> \u001b[39m\u001b[32m63\u001b[39m dtype = \u001b[43mattr\u001b[49m\u001b[43m.\u001b[49m\u001b[43mdtype\u001b[49m\n\u001b[32m     65\u001b[39m \u001b[38;5;66;03m# Do this first, as we'll be fiddling with the dtype for top-level\u001b[39;00m\n\u001b[32m     66\u001b[39m \u001b[38;5;66;03m# array types\u001b[39;00m\n\u001b[32m     67\u001b[39m htype = h5t.py_create(dtype)\n",
      "\u001b[36mFile \u001b[39m\u001b[32mh5py/h5a.pyx:337\u001b[39m, in \u001b[36mh5py.h5a.AttrID.dtype.__get__\u001b[39m\u001b[34m()\u001b[39m\n",
      "\u001b[36mFile \u001b[39m\u001b[32mh5py/h5a.pyx:339\u001b[39m, in \u001b[36mh5py.h5a.AttrID.dtype.__get__\u001b[39m\u001b[34m()\u001b[39m\n",
      "\u001b[36mFile \u001b[39m\u001b[32mh5py/h5t.pyx:963\u001b[39m, in \u001b[36mh5py.h5t.TypeIntegerID.py_dtype\u001b[39m\u001b[34m()\u001b[39m\n",
      "\u001b[31mKeyboardInterrupt\u001b[39m: "
     ]
    }
   ],
   "source": [
    "res = DepletionResultReader(results_path + os.listdir(results_path)[0] + \"/depletion_results.h5\", fuel_mat='2')\n",
    "res.data"
   ]
  },
  {
   "cell_type": "code",
   "execution_count": null,
   "id": "b3a0acd182cc1374",
   "metadata": {
    "ExecuteTime": {
     "end_time": "2024-12-01T19:54:58.181141Z",
     "start_time": "2024-12-01T19:54:55.200912Z"
    }
   },
   "outputs": [],
   "source": [
    "data = res.prepare_data()"
   ]
  },
  {
   "cell_type": "code",
   "execution_count": null,
   "id": "92fbeaed6eef459c",
   "metadata": {
    "ExecuteTime": {
     "end_time": "2024-12-01T19:55:01.903857Z",
     "start_time": "2024-12-01T19:55:01.900741Z"
    }
   },
   "outputs": [],
   "source": [
    "# params = json.load(open(results_path + os.listdir(results_path)[0] + \"/results.json\",'r'))\n",
    "with open(results_path + os.listdir(results_path)[0] + \"/results.json\", 'r') as f:\n",
    "    enr = f.read().split('\"fuel_enr\": ')[1].split(',')[0]\n",
    "params = {\n",
    "    'enr': float(enr),\n",
    "    \"materials\": {},\n",
    "    'geometry': {}\n",
    "}\n",
    "params"
   ]
  },
  {
   "cell_type": "code",
   "execution_count": null,
   "id": "7128d8191d8ddd63",
   "metadata": {
    "ExecuteTime": {
     "end_time": "2024-12-01T19:55:03.488796Z",
     "start_time": "2024-12-01T19:55:03.480700Z"
    }
   },
   "outputs": [],
   "source": [
    "pd.DataFrame(data)"
   ]
  },
  {
   "cell_type": "code",
   "execution_count": null,
   "id": "c7f1409a7e1ede2f",
   "metadata": {
    "ExecuteTime": {
     "end_time": "2024-12-01T19:55:04.760867Z",
     "start_time": "2024-12-01T19:55:04.758440Z"
    }
   },
   "outputs": [],
   "source": [
    "with open(results_path + os.listdir(results_path)[0] + '/materials.xml', 'rb') as f:\n",
    "    contents = f.read()\n",
    "    print(etree.fromstring(contents))"
   ]
  },
  {
   "cell_type": "code",
   "execution_count": null,
   "id": "fd65a59c6341f182",
   "metadata": {
    "ExecuteTime": {
     "end_time": "2024-12-01T19:55:06.671523Z",
     "start_time": "2024-12-01T19:55:06.668094Z"
    }
   },
   "outputs": [],
   "source": [
    "tree = etree.parse(results_path + os.listdir(results_path)[0] + '/materials.xml')\n",
    "tree.getroot().getchildren()"
   ]
  },
  {
   "cell_type": "code",
   "execution_count": null,
   "id": "f4efdcdc59669453",
   "metadata": {
    "ExecuteTime": {
     "end_time": "2024-12-01T19:55:07.863320Z",
     "start_time": "2024-12-01T19:55:07.860499Z"
    }
   },
   "outputs": [],
   "source": [
    "for child in tree.getroot():\n",
    "    print(child.get('name'), child.get('volume'), sep=\": \")\n",
    "    dens = child.find('density')\n",
    "    print(dens.get('value'), dens.get('units'), sep=' ')"
   ]
  },
  {
   "cell_type": "code",
   "execution_count": 60,
   "id": "9ca8b85aba040982",
   "metadata": {
    "ExecuteTime": {
     "end_time": "2024-12-01T19:55:08.422607Z",
     "start_time": "2024-12-01T19:55:08.418902Z"
    }
   },
   "outputs": [],
   "source": [
    "def get_materials_info(results_path):\n",
    "    mats_path = os.path.join(results_path, \"materials.xml\")\n",
    "    tree = etree.parse(mats_path)\n",
    "    res = {\n",
    "        'water': None,\n",
    "        'fuel': None,\n",
    "        'cladding': None\n",
    "    }\n",
    "    for child in tree.getroot():\n",
    "        info = {\n",
    "            \"volume\": float(child.get('volume', 0)),\n",
    "            \"density\": float(child.find('density').get('value', 0)),\n",
    "        }\n",
    "        if child.get('name') == 'Water':\n",
    "            res['water'] = info\n",
    "        elif child.get('name') == 'Fuel':\n",
    "            info['id'] = child.get('id', '2')\n",
    "            res['fuel'] = info\n",
    "        elif child.get('name') == 'Zircaloy-2':\n",
    "            res['cladding'] = info\n",
    "        else:\n",
    "            print(\"Material ot found: \", child.get('name'))\n",
    "    return res"
   ]
  },
  {
   "cell_type": "code",
   "execution_count": 61,
   "id": "74ed8380bf326336",
   "metadata": {
    "ExecuteTime": {
     "end_time": "2024-12-01T19:55:10.132654Z",
     "start_time": "2024-12-01T19:55:10.129463Z"
    }
   },
   "outputs": [
    {
     "data": {
      "text/plain": [
       "{'water': {'volume': 155.4871681372756, 'density': 1.0},\n",
       " 'fuel': {'volume': 429.76987501108374, 'density': 8.3, 'id': '2'},\n",
       " 'cladding': {'volume': 573.0265000147781, 'density': 6.56}}"
      ]
     },
     "execution_count": 61,
     "metadata": {},
     "output_type": "execute_result"
    }
   ],
   "source": [
    "get_materials_info(results_path + os.listdir(results_path)[0])"
   ]
  },
  {
   "cell_type": "code",
   "execution_count": 62,
   "id": "634b07789bd6ec45",
   "metadata": {
    "ExecuteTime": {
     "end_time": "2024-12-01T19:55:11.108773Z",
     "start_time": "2024-12-01T19:55:11.106114Z"
    }
   },
   "outputs": [
    {
     "data": {
      "text/plain": [
       "{'enr': 3.0, 'materials': {}, 'geometry': {}}"
      ]
     },
     "execution_count": 62,
     "metadata": {},
     "output_type": "execute_result"
    }
   ],
   "source": [
    "params"
   ]
  },
  {
   "cell_type": "code",
   "execution_count": 64,
   "id": "1cea558b74a1d8b1",
   "metadata": {
    "ExecuteTime": {
     "end_time": "2024-12-01T19:56:01.419104Z",
     "start_time": "2024-12-01T19:56:01.415521Z"
    }
   },
   "outputs": [
    {
     "data": {
      "text/plain": [
       "{'enr': 3.0,\n",
       " 'water_volume': 155.4871681372756,\n",
       " 'water_density': 1.0,\n",
       " 'fuel_volume': 429.76987501108374,\n",
       " 'fuel_density': 8.3,\n",
       " 'fuel_id': '2',\n",
       " 'cladding_volume': 573.0265000147781,\n",
       " 'cladding_density': 6.56}"
      ]
     },
     "execution_count": 64,
     "metadata": {},
     "output_type": "execute_result"
    }
   ],
   "source": [
    "def merge_context(exp_params: dict, mats: dict) -> dict:\n",
    "    res = {\n",
    "        'enr': exp_params['materials'].get('fuel_enr', exp_params.get('enr', 3))\n",
    "    }\n",
    "    for mat_name, mat_data in mats.items():\n",
    "        for key, value in mat_data.items():\n",
    "            res[f\"{mat_name}_{key}\"] = value\n",
    "    return res\n",
    "\n",
    "\n",
    "merge_context(params, get_materials_info(results_path + os.listdir(results_path)[0]))"
   ]
  },
  {
   "cell_type": "code",
   "execution_count": 65,
   "id": "d39b50f54a57f11",
   "metadata": {
    "ExecuteTime": {
     "end_time": "2024-12-01T19:56:03.934505Z",
     "start_time": "2024-12-01T19:56:03.930921Z"
    }
   },
   "outputs": [],
   "source": [
    "def prepare_sample(res_dir: str, save_dir: str = 'neuro/data/') -> None:\n",
    "    mats_data = get_materials_info(res_dir)\n",
    "    # params = json.load(open(os.path.join(res_dir, \"results.json\"), 'r'))\n",
    "    with open(results_path + os.listdir(results_path)[0] + \"/results.json\", 'r') as f:\n",
    "        enr = f.read().split('\"fuel_enr\": ')[1].split(',')[0]\n",
    "    params = {\n",
    "        'enr': float(enr),\n",
    "        \"materials\": {},\n",
    "        'geometry': {}\n",
    "    }\n",
    "    context = merge_context(params, mats_data)\n",
    "    fuel_id = context.pop('fuel_id', '2')\n",
    "    dep_res = DepletionResultReader(os.path.join(res_dir, \"depletion_results.h5\"), fuel_mat=fuel_id)\n",
    "    df = pd.DataFrame(dep_res.prepare_data())\n",
    "    os.makedirs(save_dir, exist_ok=True)\n",
    "    json.dump(context, open(os.path.join(save_dir, \"context.json\"), 'w'))\n",
    "    df.to_csv(os.path.join(save_dir, \"data.csv\"))\n",
    "\n",
    "\n",
    "# test_res_path = os.listdir(results_path)[0]\n",
    "# prepare_sample(\n",
    "#     res_dir=os.path.join(results_path, test_res_path),\n",
    "#     save_dir=os.path.join('neuro/data/v2', test_res_path)\n",
    "# )"
   ]
  },
  {
   "cell_type": "code",
   "execution_count": 67,
   "id": "98398107a8846ec6",
   "metadata": {
    "ExecuteTime": {
     "end_time": "2024-12-01T21:01:38.508211Z",
     "start_time": "2024-12-01T19:56:28.354712Z"
    }
   },
   "outputs": [
    {
     "name": "stderr",
     "output_type": "stream",
     "text": [
      "100%|██████████| 164/164 [1:05:10<00:00, 23.84s/it]\n"
     ]
    }
   ],
   "source": [
    "for result_dir in tqdm(os.listdir(results_path)):\n",
    "    res_dir = os.path.join(results_path, result_dir)\n",
    "    save_dir = os.path.join('neuro/data/v3', result_dir)\n",
    "    try:\n",
    "        prepare_sample(res_dir, save_dir)\n",
    "    except Exception as e:\n",
    "        print(f\"Failed to prepare sample: {res_dir}\", e)"
   ]
  },
  {
   "cell_type": "code",
   "execution_count": 68,
   "id": "463b114577ba394b",
   "metadata": {
    "ExecuteTime": {
     "end_time": "2024-12-01T23:30:41.645513Z",
     "start_time": "2024-12-01T23:30:41.563735Z"
    }
   },
   "outputs": [
    {
     "name": "stderr",
     "output_type": "stream",
     "text": [
      "100%|██████████| 164/164 [00:00<00:00, 2960.33it/s]"
     ]
    },
    {
     "name": "stdout",
     "output_type": "stream",
     "text": [
      "3.0\n",
      "3.0\n",
      "3.0\n",
      "3.0\n",
      "3.0\n",
      "3.0\n",
      "3.0\n",
      "3.0\n",
      "3.0\n",
      "3.0\n",
      "3.0\n",
      "3.0\n",
      "3.0\n",
      "3.0\n",
      "3.0\n",
      "3.0\n",
      "3.0\n",
      "3.0\n",
      "3.0\n",
      "3.0\n",
      "3.0\n",
      "3.0\n",
      "3.0\n",
      "3.0\n",
      "3.0\n",
      "3.0\n",
      "3.0\n",
      "3.0\n",
      "3.0\n",
      "3.0\n",
      "3.0\n",
      "3.0\n",
      "3.0\n",
      "3.0\n",
      "3.0\n",
      "3.0\n",
      "3.0\n",
      "3.0\n",
      "3.0\n",
      "3.0\n",
      "3.0\n",
      "3.0\n",
      "3.0\n",
      "3.0\n",
      "3.0\n",
      "3.0\n",
      "3.0\n",
      "3.0\n",
      "3.0\n",
      "3.0\n",
      "3.0\n",
      "3.0\n",
      "3.0\n",
      "3.0\n",
      "3.0\n",
      "3.0\n",
      "3.0\n",
      "3.0\n",
      "3.0\n",
      "3.0\n",
      "3.0\n",
      "3.0\n",
      "3.0\n",
      "3.0\n",
      "3.0\n",
      "3.0\n",
      "3.0\n",
      "3.0\n",
      "3.0\n",
      "3.0\n",
      "3.0\n",
      "3.0\n",
      "3.0\n",
      "3.0\n",
      "3.0\n",
      "3.0\n",
      "3.0\n",
      "3.0\n",
      "3.0\n",
      "3.0\n",
      "3.0\n",
      "3.0\n",
      "3.0\n",
      "3.0\n",
      "3.0\n",
      "3.0\n",
      "3.0\n",
      "3.0\n",
      "3.0\n",
      "3.0\n",
      "3.0\n",
      "3.0\n",
      "3.0\n",
      "3.0\n",
      "3.0\n",
      "3.0\n",
      "3.0\n",
      "3.0\n",
      "3.0\n",
      "3.0\n",
      "3.0\n",
      "3.0\n",
      "3.0\n",
      "3.0\n",
      "3.0\n",
      "3.0\n",
      "3.0\n",
      "3.0\n",
      "3.0\n",
      "3.0\n",
      "3.0\n",
      "3.0\n",
      "3.0\n",
      "3.0\n",
      "3.0\n",
      "3.0\n",
      "3.0\n",
      "3.0\n",
      "3.0\n",
      "3.0\n",
      "3.0\n",
      "3.0\n",
      "3.0\n",
      "3.0\n",
      "3.0\n",
      "3.0\n",
      "3.0\n",
      "3.0\n",
      "3.0\n",
      "3.0\n",
      "3.0\n",
      "3.0\n",
      "3.0\n",
      "3.0\n",
      "3.0\n",
      "3.0\n",
      "3.0\n",
      "3.0\n",
      "3.0\n",
      "3.0\n",
      "3.0\n",
      "3.0\n",
      "3.0\n",
      "3.0\n",
      "3.0\n",
      "3.0\n",
      "3.0\n",
      "3.0\n",
      "3.0\n",
      "3.0\n",
      "3.0\n",
      "3.0\n",
      "3.0\n",
      "3.0\n",
      "3.0\n",
      "3.0\n",
      "3.0\n",
      "3.0\n",
      "3.0\n",
      "3.0\n",
      "3.0\n",
      "3.0\n",
      "3.0\n",
      "3.0\n"
     ]
    },
    {
     "name": "stderr",
     "output_type": "stream",
     "text": [
      "\n"
     ]
    }
   ],
   "source": [
    "for res_dir in tqdm(os.listdir(results_path)):\n",
    "    try:\n",
    "        with open(results_path + res_dir + \"/results.json\", 'r') as f:\n",
    "                enr = f.read().split('\"fuel_enr\": ')[1].split(',')[0]\n",
    "                print(enr)\n",
    "    except Exception as e:\n",
    "        print(f\"Failed to prepare sample: {res_dir}\", e)"
   ]
  },
  {
   "cell_type": "code",
   "execution_count": null,
   "id": "d4def01f3573994a",
   "metadata": {},
   "outputs": [],
   "source": []
  }
 ],
 "metadata": {
  "kernelspec": {
   "display_name": "Python 3 (ipykernel)",
   "language": "python",
   "name": "python3"
  },
  "language_info": {
   "codemirror_mode": {
    "name": "ipython",
    "version": 3
   },
   "file_extension": ".py",
   "mimetype": "text/x-python",
   "name": "python",
   "nbconvert_exporter": "python",
   "pygments_lexer": "ipython3",
   "version": "3.11.2"
  }
 },
 "nbformat": 4,
 "nbformat_minor": 5
}
