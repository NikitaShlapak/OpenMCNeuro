{
 "cells": [
  {
   "cell_type": "code",
   "id": "initial_id",
   "metadata": {
    "collapsed": true,
    "ExecuteTime": {
     "end_time": "2024-11-21T17:47:02.244455Z",
     "start_time": "2024-11-21T17:47:02.242572Z"
    }
   },
   "source": [
    "import mambapy\n",
    "from mambapy.mamba import Mamba\n",
    "import numpy as np\n",
    "import torch"
   ],
   "outputs": [],
   "execution_count": 13
  },
  {
   "metadata": {
    "ExecuteTime": {
     "end_time": "2024-11-21T17:40:25.754057Z",
     "start_time": "2024-11-21T17:40:25.747193Z"
    }
   },
   "cell_type": "code",
   "source": [
    "config = mambapy.mamba.MambaConfig(d_model=16, n_layers=2)\n",
    "mamba=Mamba(config)\n",
    "mamba"
   ],
   "id": "6e88337345a32edc",
   "outputs": [
    {
     "data": {
      "text/plain": [
       "Mamba(\n",
       "  (layers): ModuleList(\n",
       "    (0-1): 2 x ResidualBlock(\n",
       "      (mixer): MambaBlock(\n",
       "        (in_proj): Linear(in_features=16, out_features=64, bias=False)\n",
       "        (conv1d): Conv1d(32, 32, kernel_size=(4,), stride=(1,), padding=(3,), groups=32)\n",
       "        (x_proj): Linear(in_features=32, out_features=33, bias=False)\n",
       "        (dt_proj): Linear(in_features=1, out_features=32, bias=True)\n",
       "        (out_proj): Linear(in_features=32, out_features=16, bias=False)\n",
       "      )\n",
       "      (norm): RMSNorm()\n",
       "    )\n",
       "  )\n",
       ")"
      ]
     },
     "execution_count": 5,
     "metadata": {},
     "output_type": "execute_result"
    }
   ],
   "execution_count": 5
  },
  {
   "metadata": {
    "ExecuteTime": {
     "end_time": "2024-11-21T17:41:45.469047Z",
     "start_time": "2024-11-21T17:41:45.464764Z"
    }
   },
   "cell_type": "code",
   "source": [
    "rb = mambapy.mamba.ResidualBlock(config)\n",
    "rb"
   ],
   "id": "fe04374705179cdc",
   "outputs": [
    {
     "data": {
      "text/plain": [
       "ResidualBlock(\n",
       "  (mixer): MambaBlock(\n",
       "    (in_proj): Linear(in_features=16, out_features=64, bias=False)\n",
       "    (conv1d): Conv1d(32, 32, kernel_size=(4,), stride=(1,), padding=(3,), groups=32)\n",
       "    (x_proj): Linear(in_features=32, out_features=33, bias=False)\n",
       "    (dt_proj): Linear(in_features=1, out_features=32, bias=True)\n",
       "    (out_proj): Linear(in_features=32, out_features=16, bias=False)\n",
       "  )\n",
       "  (norm): RMSNorm()\n",
       ")"
      ]
     },
     "execution_count": 7,
     "metadata": {},
     "output_type": "execute_result"
    }
   ],
   "execution_count": 7
  },
  {
   "metadata": {
    "ExecuteTime": {
     "end_time": "2024-11-21T17:48:09.471053Z",
     "start_time": "2024-11-21T17:48:09.463486Z"
    }
   },
   "cell_type": "code",
   "source": [
    "test_x = torch.as_tensor(np.random.random((10,8,16)), dtype=torch.float32)\n",
    "rb(test_x)"
   ],
   "id": "7db011b387fc540a",
   "outputs": [
    {
     "data": {
      "text/plain": [
       "tensor([[[ 0.0872,  0.5937,  0.8553,  ...,  0.6530,  0.2141,  0.7754],\n",
       "         [ 0.6444,  0.8852,  0.6280,  ...,  0.0656,  0.1700,  0.0801],\n",
       "         [ 0.3203,  0.3548,  0.0791,  ...,  0.4334,  0.7192,  0.0883],\n",
       "         ...,\n",
       "         [ 0.2129,  0.2162,  0.5279,  ...,  0.7330,  0.3299,  0.8880],\n",
       "         [ 0.7771,  0.5676,  0.6809,  ...,  0.1005,  0.8802,  0.8964],\n",
       "         [ 0.0518,  0.3348,  0.9488,  ...,  0.8742,  0.8953,  0.9997]],\n",
       "\n",
       "        [[ 0.1553,  0.8824,  0.1853,  ...,  0.3263,  0.1944,  0.8926],\n",
       "         [ 0.2177,  0.8210,  0.8657,  ...,  0.0939,  0.0685,  0.5629],\n",
       "         [ 0.0500,  0.0127,  0.6679,  ...,  0.0634,  0.1939,  0.7773],\n",
       "         ...,\n",
       "         [ 0.5660,  0.3241,  0.6979,  ...,  0.8248,  0.7889,  0.3960],\n",
       "         [ 0.0957,  0.1477,  0.5040,  ...,  0.5324,  0.2511,  0.9335],\n",
       "         [ 0.3306,  0.5829,  0.8941,  ...,  0.5937,  0.3152,  0.9648]],\n",
       "\n",
       "        [[ 0.6643,  0.9192,  0.7827,  ...,  0.5485,  0.1623,  0.1676],\n",
       "         [ 0.3650,  0.1268,  0.1277,  ...,  0.1226,  0.6671,  0.6518],\n",
       "         [ 0.8213,  0.9065,  0.5631,  ...,  0.0829,  0.3114,  0.7404],\n",
       "         ...,\n",
       "         [ 0.8470,  0.1574,  0.1800,  ...,  0.2434,  0.2227,  0.4943],\n",
       "         [-0.0208,  0.6146,  0.4799,  ...,  0.9774,  0.3258,  0.2037],\n",
       "         [ 0.7017,  0.4941,  0.8430,  ...,  1.0904,  0.7891,  0.1767]],\n",
       "\n",
       "        ...,\n",
       "\n",
       "        [[ 0.5352,  0.1747,  0.2766,  ...,  0.6844,  0.4253,  0.2718],\n",
       "         [ 0.4432,  0.9305,  0.3229,  ...,  0.7160,  0.2966,  0.4014],\n",
       "         [-0.0391,  0.9647,  0.4531,  ...,  0.5808, -0.0221,  0.9187],\n",
       "         ...,\n",
       "         [ 0.8484,  0.4318,  0.9931,  ...,  0.1334,  0.1864,  0.0786],\n",
       "         [ 0.3402,  0.3167,  0.5800,  ...,  0.9902,  0.1898,  0.7084],\n",
       "         [ 0.4670,  0.9943,  0.4757,  ...,  0.2489,  0.2713,  0.7522]],\n",
       "\n",
       "        [[ 0.1524,  0.1856,  0.4467,  ...,  0.8649,  0.8176,  0.7094],\n",
       "         [ 0.2840,  0.3540,  0.5189,  ...,  0.2044,  0.5736,  0.4112],\n",
       "         [ 0.1443,  0.0743,  0.5866,  ...,  0.2774, -0.0029,  0.1230],\n",
       "         ...,\n",
       "         [ 0.3697,  0.3654, -0.0021,  ...,  0.1355,  0.7510,  0.0521],\n",
       "         [ 0.8564,  0.5689, -0.0324,  ...,  0.8668,  0.5336,  0.1802],\n",
       "         [ 0.6675,  0.7513,  0.9028,  ...,  0.8931,  0.0116,  0.6191]],\n",
       "\n",
       "        [[ 0.1954,  0.1330,  0.6894,  ...,  0.6331,  0.6977,  0.8938],\n",
       "         [ 0.4059,  0.2116,  0.4030,  ...,  0.9147,  0.3304,  0.7985],\n",
       "         [ 0.7147,  0.4752,  0.5045,  ...,  0.8349,  0.7689,  0.8187],\n",
       "         ...,\n",
       "         [ 0.8460,  0.1318,  0.7669,  ...,  0.2706,  0.8824,  0.8133],\n",
       "         [ 0.1915,  0.5594,  0.6256,  ...,  0.7430,  0.9248,  0.6713],\n",
       "         [ 0.1503,  0.0249,  0.4086,  ...,  0.7138,  0.1573,  0.4375]]],\n",
       "       grad_fn=<AddBackward0>)"
      ]
     },
     "execution_count": 15,
     "metadata": {},
     "output_type": "execute_result"
    }
   ],
   "execution_count": 15
  },
  {
   "metadata": {
    "ExecuteTime": {
     "end_time": "2024-11-21T17:43:27.903042Z",
     "start_time": "2024-11-21T17:43:27.847084Z"
    }
   },
   "cell_type": "code",
   "source": "mamba(test_x)",
   "id": "93806dc264097b05",
   "outputs": [
    {
     "ename": "AttributeError",
     "evalue": "'numpy.ndarray' object has no attribute 'pow'",
     "output_type": "error",
     "traceback": [
      "\u001B[0;31m---------------------------------------------------------------------------\u001B[0m",
      "\u001B[0;31mAttributeError\u001B[0m                            Traceback (most recent call last)",
      "Cell \u001B[0;32mIn[11], line 1\u001B[0m\n\u001B[0;32m----> 1\u001B[0m \u001B[43mmamba\u001B[49m\u001B[43m(\u001B[49m\u001B[43mtest_x\u001B[49m\u001B[43m)\u001B[49m\n",
      "File \u001B[0;32m~/.local/lib/python3.12/site-packages/torch/nn/modules/module.py:1736\u001B[0m, in \u001B[0;36mModule._wrapped_call_impl\u001B[0;34m(self, *args, **kwargs)\u001B[0m\n\u001B[1;32m   1734\u001B[0m     \u001B[38;5;28;01mreturn\u001B[39;00m \u001B[38;5;28mself\u001B[39m\u001B[38;5;241m.\u001B[39m_compiled_call_impl(\u001B[38;5;241m*\u001B[39margs, \u001B[38;5;241m*\u001B[39m\u001B[38;5;241m*\u001B[39mkwargs)  \u001B[38;5;66;03m# type: ignore[misc]\u001B[39;00m\n\u001B[1;32m   1735\u001B[0m \u001B[38;5;28;01melse\u001B[39;00m:\n\u001B[0;32m-> 1736\u001B[0m     \u001B[38;5;28;01mreturn\u001B[39;00m \u001B[38;5;28;43mself\u001B[39;49m\u001B[38;5;241;43m.\u001B[39;49m\u001B[43m_call_impl\u001B[49m\u001B[43m(\u001B[49m\u001B[38;5;241;43m*\u001B[39;49m\u001B[43margs\u001B[49m\u001B[43m,\u001B[49m\u001B[43m \u001B[49m\u001B[38;5;241;43m*\u001B[39;49m\u001B[38;5;241;43m*\u001B[39;49m\u001B[43mkwargs\u001B[49m\u001B[43m)\u001B[49m\n",
      "File \u001B[0;32m~/.local/lib/python3.12/site-packages/torch/nn/modules/module.py:1747\u001B[0m, in \u001B[0;36mModule._call_impl\u001B[0;34m(self, *args, **kwargs)\u001B[0m\n\u001B[1;32m   1742\u001B[0m \u001B[38;5;66;03m# If we don't have any hooks, we want to skip the rest of the logic in\u001B[39;00m\n\u001B[1;32m   1743\u001B[0m \u001B[38;5;66;03m# this function, and just call forward.\u001B[39;00m\n\u001B[1;32m   1744\u001B[0m \u001B[38;5;28;01mif\u001B[39;00m \u001B[38;5;129;01mnot\u001B[39;00m (\u001B[38;5;28mself\u001B[39m\u001B[38;5;241m.\u001B[39m_backward_hooks \u001B[38;5;129;01mor\u001B[39;00m \u001B[38;5;28mself\u001B[39m\u001B[38;5;241m.\u001B[39m_backward_pre_hooks \u001B[38;5;129;01mor\u001B[39;00m \u001B[38;5;28mself\u001B[39m\u001B[38;5;241m.\u001B[39m_forward_hooks \u001B[38;5;129;01mor\u001B[39;00m \u001B[38;5;28mself\u001B[39m\u001B[38;5;241m.\u001B[39m_forward_pre_hooks\n\u001B[1;32m   1745\u001B[0m         \u001B[38;5;129;01mor\u001B[39;00m _global_backward_pre_hooks \u001B[38;5;129;01mor\u001B[39;00m _global_backward_hooks\n\u001B[1;32m   1746\u001B[0m         \u001B[38;5;129;01mor\u001B[39;00m _global_forward_hooks \u001B[38;5;129;01mor\u001B[39;00m _global_forward_pre_hooks):\n\u001B[0;32m-> 1747\u001B[0m     \u001B[38;5;28;01mreturn\u001B[39;00m \u001B[43mforward_call\u001B[49m\u001B[43m(\u001B[49m\u001B[38;5;241;43m*\u001B[39;49m\u001B[43margs\u001B[49m\u001B[43m,\u001B[49m\u001B[43m \u001B[49m\u001B[38;5;241;43m*\u001B[39;49m\u001B[38;5;241;43m*\u001B[39;49m\u001B[43mkwargs\u001B[49m\u001B[43m)\u001B[49m\n\u001B[1;32m   1749\u001B[0m result \u001B[38;5;241m=\u001B[39m \u001B[38;5;28;01mNone\u001B[39;00m\n\u001B[1;32m   1750\u001B[0m called_always_called_hooks \u001B[38;5;241m=\u001B[39m \u001B[38;5;28mset\u001B[39m()\n",
      "File \u001B[0;32m~/.conda/envs/openmc/lib/python3.12/site-packages/mambapy/mamba.py:83\u001B[0m, in \u001B[0;36mMamba.forward\u001B[0;34m(self, x)\u001B[0m\n\u001B[1;32m     77\u001B[0m \u001B[38;5;28;01mdef\u001B[39;00m \u001B[38;5;21mforward\u001B[39m(\u001B[38;5;28mself\u001B[39m, x):\n\u001B[1;32m     78\u001B[0m     \u001B[38;5;66;03m# x : (B, L, D)\u001B[39;00m\n\u001B[1;32m     79\u001B[0m \n\u001B[1;32m     80\u001B[0m     \u001B[38;5;66;03m# y : (B, L, D)\u001B[39;00m\n\u001B[1;32m     82\u001B[0m     \u001B[38;5;28;01mfor\u001B[39;00m layer \u001B[38;5;129;01min\u001B[39;00m \u001B[38;5;28mself\u001B[39m\u001B[38;5;241m.\u001B[39mlayers:\n\u001B[0;32m---> 83\u001B[0m         x \u001B[38;5;241m=\u001B[39m \u001B[43mlayer\u001B[49m\u001B[43m(\u001B[49m\u001B[43mx\u001B[49m\u001B[43m)\u001B[49m\n\u001B[1;32m     85\u001B[0m     \u001B[38;5;28;01mreturn\u001B[39;00m x\n",
      "File \u001B[0;32m~/.local/lib/python3.12/site-packages/torch/nn/modules/module.py:1736\u001B[0m, in \u001B[0;36mModule._wrapped_call_impl\u001B[0;34m(self, *args, **kwargs)\u001B[0m\n\u001B[1;32m   1734\u001B[0m     \u001B[38;5;28;01mreturn\u001B[39;00m \u001B[38;5;28mself\u001B[39m\u001B[38;5;241m.\u001B[39m_compiled_call_impl(\u001B[38;5;241m*\u001B[39margs, \u001B[38;5;241m*\u001B[39m\u001B[38;5;241m*\u001B[39mkwargs)  \u001B[38;5;66;03m# type: ignore[misc]\u001B[39;00m\n\u001B[1;32m   1735\u001B[0m \u001B[38;5;28;01melse\u001B[39;00m:\n\u001B[0;32m-> 1736\u001B[0m     \u001B[38;5;28;01mreturn\u001B[39;00m \u001B[38;5;28;43mself\u001B[39;49m\u001B[38;5;241;43m.\u001B[39;49m\u001B[43m_call_impl\u001B[49m\u001B[43m(\u001B[49m\u001B[38;5;241;43m*\u001B[39;49m\u001B[43margs\u001B[49m\u001B[43m,\u001B[49m\u001B[43m \u001B[49m\u001B[38;5;241;43m*\u001B[39;49m\u001B[38;5;241;43m*\u001B[39;49m\u001B[43mkwargs\u001B[49m\u001B[43m)\u001B[49m\n",
      "File \u001B[0;32m~/.local/lib/python3.12/site-packages/torch/nn/modules/module.py:1747\u001B[0m, in \u001B[0;36mModule._call_impl\u001B[0;34m(self, *args, **kwargs)\u001B[0m\n\u001B[1;32m   1742\u001B[0m \u001B[38;5;66;03m# If we don't have any hooks, we want to skip the rest of the logic in\u001B[39;00m\n\u001B[1;32m   1743\u001B[0m \u001B[38;5;66;03m# this function, and just call forward.\u001B[39;00m\n\u001B[1;32m   1744\u001B[0m \u001B[38;5;28;01mif\u001B[39;00m \u001B[38;5;129;01mnot\u001B[39;00m (\u001B[38;5;28mself\u001B[39m\u001B[38;5;241m.\u001B[39m_backward_hooks \u001B[38;5;129;01mor\u001B[39;00m \u001B[38;5;28mself\u001B[39m\u001B[38;5;241m.\u001B[39m_backward_pre_hooks \u001B[38;5;129;01mor\u001B[39;00m \u001B[38;5;28mself\u001B[39m\u001B[38;5;241m.\u001B[39m_forward_hooks \u001B[38;5;129;01mor\u001B[39;00m \u001B[38;5;28mself\u001B[39m\u001B[38;5;241m.\u001B[39m_forward_pre_hooks\n\u001B[1;32m   1745\u001B[0m         \u001B[38;5;129;01mor\u001B[39;00m _global_backward_pre_hooks \u001B[38;5;129;01mor\u001B[39;00m _global_backward_hooks\n\u001B[1;32m   1746\u001B[0m         \u001B[38;5;129;01mor\u001B[39;00m _global_forward_hooks \u001B[38;5;129;01mor\u001B[39;00m _global_forward_pre_hooks):\n\u001B[0;32m-> 1747\u001B[0m     \u001B[38;5;28;01mreturn\u001B[39;00m \u001B[43mforward_call\u001B[49m\u001B[43m(\u001B[49m\u001B[38;5;241;43m*\u001B[39;49m\u001B[43margs\u001B[49m\u001B[43m,\u001B[49m\u001B[43m \u001B[49m\u001B[38;5;241;43m*\u001B[39;49m\u001B[38;5;241;43m*\u001B[39;49m\u001B[43mkwargs\u001B[49m\u001B[43m)\u001B[49m\n\u001B[1;32m   1749\u001B[0m result \u001B[38;5;241m=\u001B[39m \u001B[38;5;28;01mNone\u001B[39;00m\n\u001B[1;32m   1750\u001B[0m called_always_called_hooks \u001B[38;5;241m=\u001B[39m \u001B[38;5;28mset\u001B[39m()\n",
      "File \u001B[0;32m~/.conda/envs/openmc/lib/python3.12/site-packages/mambapy/mamba.py:111\u001B[0m, in \u001B[0;36mResidualBlock.forward\u001B[0;34m(self, x)\u001B[0m\n\u001B[1;32m    106\u001B[0m \u001B[38;5;28;01mdef\u001B[39;00m \u001B[38;5;21mforward\u001B[39m(\u001B[38;5;28mself\u001B[39m, x):\n\u001B[1;32m    107\u001B[0m     \u001B[38;5;66;03m# x : (B, L, D)\u001B[39;00m\n\u001B[1;32m    108\u001B[0m \n\u001B[1;32m    109\u001B[0m     \u001B[38;5;66;03m# output : (B, L, D)\u001B[39;00m\n\u001B[0;32m--> 111\u001B[0m     output \u001B[38;5;241m=\u001B[39m \u001B[38;5;28mself\u001B[39m\u001B[38;5;241m.\u001B[39mmixer(\u001B[38;5;28;43mself\u001B[39;49m\u001B[38;5;241;43m.\u001B[39;49m\u001B[43mnorm\u001B[49m\u001B[43m(\u001B[49m\u001B[43mx\u001B[49m\u001B[43m)\u001B[49m) \u001B[38;5;241m+\u001B[39m x\n\u001B[1;32m    112\u001B[0m     \u001B[38;5;28;01mreturn\u001B[39;00m output\n",
      "File \u001B[0;32m~/.local/lib/python3.12/site-packages/torch/nn/modules/module.py:1736\u001B[0m, in \u001B[0;36mModule._wrapped_call_impl\u001B[0;34m(self, *args, **kwargs)\u001B[0m\n\u001B[1;32m   1734\u001B[0m     \u001B[38;5;28;01mreturn\u001B[39;00m \u001B[38;5;28mself\u001B[39m\u001B[38;5;241m.\u001B[39m_compiled_call_impl(\u001B[38;5;241m*\u001B[39margs, \u001B[38;5;241m*\u001B[39m\u001B[38;5;241m*\u001B[39mkwargs)  \u001B[38;5;66;03m# type: ignore[misc]\u001B[39;00m\n\u001B[1;32m   1735\u001B[0m \u001B[38;5;28;01melse\u001B[39;00m:\n\u001B[0;32m-> 1736\u001B[0m     \u001B[38;5;28;01mreturn\u001B[39;00m \u001B[38;5;28;43mself\u001B[39;49m\u001B[38;5;241;43m.\u001B[39;49m\u001B[43m_call_impl\u001B[49m\u001B[43m(\u001B[49m\u001B[38;5;241;43m*\u001B[39;49m\u001B[43margs\u001B[49m\u001B[43m,\u001B[49m\u001B[43m \u001B[49m\u001B[38;5;241;43m*\u001B[39;49m\u001B[38;5;241;43m*\u001B[39;49m\u001B[43mkwargs\u001B[49m\u001B[43m)\u001B[49m\n",
      "File \u001B[0;32m~/.local/lib/python3.12/site-packages/torch/nn/modules/module.py:1747\u001B[0m, in \u001B[0;36mModule._call_impl\u001B[0;34m(self, *args, **kwargs)\u001B[0m\n\u001B[1;32m   1742\u001B[0m \u001B[38;5;66;03m# If we don't have any hooks, we want to skip the rest of the logic in\u001B[39;00m\n\u001B[1;32m   1743\u001B[0m \u001B[38;5;66;03m# this function, and just call forward.\u001B[39;00m\n\u001B[1;32m   1744\u001B[0m \u001B[38;5;28;01mif\u001B[39;00m \u001B[38;5;129;01mnot\u001B[39;00m (\u001B[38;5;28mself\u001B[39m\u001B[38;5;241m.\u001B[39m_backward_hooks \u001B[38;5;129;01mor\u001B[39;00m \u001B[38;5;28mself\u001B[39m\u001B[38;5;241m.\u001B[39m_backward_pre_hooks \u001B[38;5;129;01mor\u001B[39;00m \u001B[38;5;28mself\u001B[39m\u001B[38;5;241m.\u001B[39m_forward_hooks \u001B[38;5;129;01mor\u001B[39;00m \u001B[38;5;28mself\u001B[39m\u001B[38;5;241m.\u001B[39m_forward_pre_hooks\n\u001B[1;32m   1745\u001B[0m         \u001B[38;5;129;01mor\u001B[39;00m _global_backward_pre_hooks \u001B[38;5;129;01mor\u001B[39;00m _global_backward_hooks\n\u001B[1;32m   1746\u001B[0m         \u001B[38;5;129;01mor\u001B[39;00m _global_forward_hooks \u001B[38;5;129;01mor\u001B[39;00m _global_forward_pre_hooks):\n\u001B[0;32m-> 1747\u001B[0m     \u001B[38;5;28;01mreturn\u001B[39;00m \u001B[43mforward_call\u001B[49m\u001B[43m(\u001B[49m\u001B[38;5;241;43m*\u001B[39;49m\u001B[43margs\u001B[49m\u001B[43m,\u001B[49m\u001B[43m \u001B[49m\u001B[38;5;241;43m*\u001B[39;49m\u001B[38;5;241;43m*\u001B[39;49m\u001B[43mkwargs\u001B[49m\u001B[43m)\u001B[49m\n\u001B[1;32m   1749\u001B[0m result \u001B[38;5;241m=\u001B[39m \u001B[38;5;28;01mNone\u001B[39;00m\n\u001B[1;32m   1750\u001B[0m called_always_called_hooks \u001B[38;5;241m=\u001B[39m \u001B[38;5;28mset\u001B[39m()\n",
      "File \u001B[0;32m~/.conda/envs/openmc/lib/python3.12/site-packages/mambapy/mamba.py:428\u001B[0m, in \u001B[0;36mRMSNorm.forward\u001B[0;34m(self, x)\u001B[0m\n\u001B[1;32m    427\u001B[0m \u001B[38;5;28;01mdef\u001B[39;00m \u001B[38;5;21mforward\u001B[39m(\u001B[38;5;28mself\u001B[39m, x):\n\u001B[0;32m--> 428\u001B[0m     output \u001B[38;5;241m=\u001B[39m x \u001B[38;5;241m*\u001B[39m torch\u001B[38;5;241m.\u001B[39mrsqrt(\u001B[43mx\u001B[49m\u001B[38;5;241;43m.\u001B[39;49m\u001B[43mpow\u001B[49m(\u001B[38;5;241m2\u001B[39m)\u001B[38;5;241m.\u001B[39mmean(\u001B[38;5;241m-\u001B[39m\u001B[38;5;241m1\u001B[39m, keepdim\u001B[38;5;241m=\u001B[39m\u001B[38;5;28;01mTrue\u001B[39;00m) \u001B[38;5;241m+\u001B[39m \u001B[38;5;28mself\u001B[39m\u001B[38;5;241m.\u001B[39meps)\n\u001B[1;32m    430\u001B[0m     \u001B[38;5;28;01mif\u001B[39;00m \u001B[38;5;129;01mnot\u001B[39;00m \u001B[38;5;28mself\u001B[39m\u001B[38;5;241m.\u001B[39muse_mup:\n\u001B[1;32m    431\u001B[0m         \u001B[38;5;28;01mreturn\u001B[39;00m output \u001B[38;5;241m*\u001B[39m \u001B[38;5;28mself\u001B[39m\u001B[38;5;241m.\u001B[39mweight\n",
      "\u001B[0;31mAttributeError\u001B[0m: 'numpy.ndarray' object has no attribute 'pow'"
     ]
    }
   ],
   "execution_count": 11
  },
  {
   "metadata": {},
   "cell_type": "code",
   "outputs": [],
   "execution_count": null,
   "source": "",
   "id": "d362fd4c7311b5a9"
  }
 ],
 "metadata": {
  "kernelspec": {
   "display_name": "Python 3",
   "language": "python",
   "name": "python3"
  },
  "language_info": {
   "codemirror_mode": {
    "name": "ipython",
    "version": 2
   },
   "file_extension": ".py",
   "mimetype": "text/x-python",
   "name": "python",
   "nbconvert_exporter": "python",
   "pygments_lexer": "ipython2",
   "version": "2.7.6"
  }
 },
 "nbformat": 4,
 "nbformat_minor": 5
}
