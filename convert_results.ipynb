{
 "cells": [
  {
   "cell_type": "code",
   "id": "initial_id",
   "metadata": {
    "collapsed": true,
    "jupyter": {
     "is_executing": true
    }
   },
   "source": [
    "import json\n",
    "import os\n",
    "\n",
    "import openmc\n",
    "import pandas as pd\n",
    "from lxml import etree\n",
    "from tqdm import tqdm\n",
    "\n",
    "from utils.resulting import DepletionResultReader"
   ],
   "outputs": [],
   "execution_count": null
  },
  {
   "metadata": {
    "ExecuteTime": {
     "end_time": "2024-12-01T19:53:44.199055Z",
     "start_time": "2024-12-01T19:53:44.188119Z"
    }
   },
   "cell_type": "code",
   "source": [
    "openmc.config['cross_sections'] = '/home/nikita/science/data/endfb-vii.1-hdf5/cross_sections.xml'\n",
    "openmc.config['chain_file'] = '/home/nikita/science/data/chains/chain_endfb71_pwr.xml'"
   ],
   "id": "c820fc033786b3ea",
   "outputs": [],
   "execution_count": 49
  },
  {
   "metadata": {
    "ExecuteTime": {
     "end_time": "2024-12-01T19:54:34.663661Z",
     "start_time": "2024-12-01T19:54:34.659722Z"
    }
   },
   "cell_type": "code",
   "source": [
    "results_path = \"results/depletion/v3/\"\n",
    "os.listdir(results_path)"
   ],
   "id": "3baee0f683d89fbb",
   "outputs": [
    {
     "data": {
      "text/plain": [
       "['2024-12-01_02:04:59',\n",
       " '2024-12-01_02:12:57',\n",
       " '2024-12-01_02:20:59',\n",
       " '2024-12-01_02:28:57',\n",
       " '2024-12-01_02:36:54',\n",
       " '2024-12-01_02:44:52',\n",
       " '2024-12-01_02:52:50',\n",
       " '2024-12-01_03:00:51',\n",
       " '2024-12-01_03:08:51',\n",
       " '2024-12-01_03:16:50',\n",
       " '2024-12-01_03:24:48',\n",
       " '2024-12-01_03:32:49',\n",
       " '2024-12-01_03:40:52',\n",
       " '2024-12-01_03:48:53',\n",
       " '2024-12-01_03:56:54',\n",
       " '2024-12-01_04:04:54',\n",
       " '2024-12-01_04:12:13',\n",
       " '2024-12-01_04:19:29',\n",
       " '2024-12-01_04:26:48',\n",
       " '2024-12-01_04:34:06',\n",
       " '2024-12-01_04:41:24',\n",
       " '2024-12-01_04:48:42',\n",
       " '2024-12-01_04:56:02',\n",
       " '2024-12-01_05:03:21',\n",
       " '2024-12-01_05:10:40',\n",
       " '2024-12-01_05:18:01',\n",
       " '2024-12-01_05:25:19',\n",
       " '2024-12-01_05:32:37',\n",
       " '2024-12-01_05:39:55',\n",
       " '2024-12-01_05:47:16',\n",
       " '2024-12-01_05:54:34',\n",
       " '2024-12-01_06:01:54',\n",
       " '2024-12-01_06:09:14',\n",
       " '2024-12-01_06:16:32',\n",
       " '2024-12-01_06:23:53',\n",
       " '2024-12-01_06:31:14',\n",
       " '2024-12-01_06:38:35',\n",
       " '2024-12-01_06:45:57',\n",
       " '2024-12-01_06:53:18',\n",
       " '2024-12-01_07:00:37',\n",
       " '2024-12-01_07:07:58',\n",
       " '2024-12-01_07:15:22',\n",
       " '2024-12-01_07:22:42',\n",
       " '2024-12-01_07:30:04',\n",
       " '2024-12-01_07:37:24',\n",
       " '2024-12-01_07:44:48',\n",
       " '2024-12-01_07:52:09',\n",
       " '2024-12-01_07:59:32',\n",
       " '2024-12-01_08:06:53',\n",
       " '2024-12-01_08:14:14',\n",
       " '2024-12-01_08:21:38',\n",
       " '2024-12-01_08:29:02',\n",
       " '2024-12-01_08:36:26',\n",
       " '2024-12-01_08:43:50',\n",
       " '2024-12-01_08:51:14',\n",
       " '2024-12-01_08:58:38',\n",
       " '2024-12-01_09:06:01',\n",
       " '2024-12-01_09:13:25',\n",
       " '2024-12-01_09:20:50',\n",
       " '2024-12-01_09:28:14',\n",
       " '2024-12-01_09:35:38',\n",
       " '2024-12-01_09:43:04',\n",
       " '2024-12-01_09:50:29',\n",
       " '2024-12-01_09:57:53',\n",
       " '2024-12-01_10:05:18',\n",
       " '2024-12-01_10:12:42',\n",
       " '2024-12-01_10:20:09',\n",
       " '2024-12-01_10:27:37',\n",
       " '2024-12-01_10:35:02',\n",
       " '2024-12-01_10:42:30',\n",
       " '2024-12-01_10:49:58',\n",
       " '2024-12-01_10:57:28',\n",
       " '2024-12-01_11:05:01',\n",
       " '2024-12-01_11:12:27',\n",
       " '2024-12-01_11:19:54',\n",
       " '2024-12-01_11:27:18',\n",
       " '2024-12-01_11:34:47',\n",
       " '2024-12-01_11:42:13',\n",
       " '2024-12-01_11:49:39',\n",
       " '2024-12-01_11:57:07',\n",
       " '2024-12-01_12:04:32',\n",
       " '2024-12-01_12:12:01',\n",
       " '2024-12-01_12:19:26',\n",
       " '2024-12-01_12:26:50',\n",
       " '2024-12-01_12:34:16',\n",
       " '2024-12-01_12:41:43',\n",
       " '2024-12-01_12:49:09',\n",
       " '2024-12-01_12:56:36',\n",
       " '2024-12-01_13:04:01',\n",
       " '2024-12-01_13:11:27',\n",
       " '2024-12-01_13:18:51',\n",
       " '2024-12-01_13:26:17',\n",
       " '2024-12-01_13:33:43',\n",
       " '2024-12-01_13:41:11',\n",
       " '2024-12-01_13:48:38',\n",
       " '2024-12-01_13:56:03',\n",
       " '2024-12-01_14:03:30',\n",
       " '2024-12-01_14:10:57',\n",
       " '2024-12-01_14:18:24',\n",
       " '2024-12-01_14:25:50',\n",
       " '2024-12-01_14:33:19',\n",
       " '2024-12-01_14:40:48',\n",
       " '2024-12-01_14:48:18',\n",
       " '2024-12-01_14:55:45',\n",
       " '2024-12-01_15:03:14',\n",
       " '2024-12-01_15:10:44',\n",
       " '2024-12-01_15:18:11',\n",
       " '2024-12-01_15:25:38',\n",
       " '2024-12-01_15:33:05',\n",
       " '2024-12-01_15:40:36',\n",
       " '2024-12-01_15:48:04',\n",
       " '2024-12-01_15:55:33',\n",
       " '2024-12-01_16:03:02',\n",
       " '2024-12-01_16:10:31',\n",
       " '2024-12-01_16:17:59',\n",
       " '2024-12-01_16:25:31',\n",
       " '2024-12-01_16:33:04',\n",
       " '2024-12-01_16:40:37',\n",
       " '2024-12-01_16:48:08',\n",
       " '2024-12-01_16:55:39',\n",
       " '2024-12-01_17:03:10',\n",
       " '2024-12-01_17:10:45',\n",
       " '2024-12-01_17:18:17',\n",
       " '2024-12-01_17:25:50',\n",
       " '2024-12-01_17:33:22',\n",
       " '2024-12-01_17:40:52',\n",
       " '2024-12-01_17:48:24',\n",
       " '2024-12-01_17:55:58',\n",
       " '2024-12-01_18:03:30',\n",
       " '2024-12-01_18:11:04',\n",
       " '2024-12-01_18:18:37',\n",
       " '2024-12-01_18:26:11',\n",
       " '2024-12-01_18:33:47',\n",
       " '2024-12-01_18:41:20',\n",
       " '2024-12-01_18:48:54',\n",
       " '2024-12-01_18:56:28',\n",
       " '2024-12-01_19:04:04',\n",
       " '2024-12-01_19:11:37',\n",
       " '2024-12-01_19:19:09',\n",
       " '2024-12-01_19:26:45',\n",
       " '2024-12-01_19:34:20',\n",
       " '2024-12-01_19:41:52',\n",
       " '2024-12-01_19:49:25',\n",
       " '2024-12-01_19:57:01',\n",
       " '2024-12-01_20:04:35',\n",
       " '2024-12-01_20:12:08',\n",
       " '2024-12-01_20:19:43',\n",
       " '2024-12-01_20:27:16',\n",
       " '2024-12-01_20:35:21',\n",
       " '2024-12-01_20:43:14',\n",
       " '2024-12-01_20:50:58',\n",
       " '2024-12-01_20:58:37',\n",
       " '2024-12-01_21:06:18',\n",
       " '2024-12-01_21:14:00',\n",
       " '2024-12-01_21:21:41',\n",
       " '2024-12-01_21:29:24',\n",
       " '2024-12-01_21:37:05',\n",
       " '2024-12-01_21:44:46',\n",
       " '2024-12-01_21:52:27',\n",
       " '2024-12-01_22:00:09',\n",
       " '2024-12-01_22:07:50',\n",
       " '2024-12-01_22:15:32',\n",
       " '2024-12-01_22:23:13',\n",
       " '2024-12-01_22:30:55']"
      ]
     },
     "execution_count": 52,
     "metadata": {},
     "output_type": "execute_result"
    }
   ],
   "execution_count": 52
  },
  {
   "metadata": {
    "ExecuteTime": {
     "end_time": "2024-12-01T19:54:55.200086Z",
     "start_time": "2024-12-01T19:54:35.330577Z"
    }
   },
   "cell_type": "code",
   "source": [
    "res = DepletionResultReader(results_path + os.listdir(results_path)[0] + \"/depletion_results.h5\", fuel_mat='2')\n",
    "res.data"
   ],
   "id": "389d1b793a19c695",
   "outputs": [
    {
     "data": {
      "text/plain": [
       "[<StepResult: t=0.0, dt=7200.0, source=30000.0>,\n",
       " <StepResult: t=7200.0, dt=7200.0, source=30000.0>,\n",
       " <StepResult: t=14400.0, dt=7200.0, source=30000.0>,\n",
       " <StepResult: t=21600.0, dt=7200.0, source=30000.0>,\n",
       " <StepResult: t=28800.0, dt=7200.0, source=30000.0>,\n",
       " <StepResult: t=36000.0, dt=7200.0, source=30000.0>,\n",
       " <StepResult: t=43200.0, dt=7200.0, source=30000.0>,\n",
       " <StepResult: t=50400.0, dt=7200.0, source=30000.0>,\n",
       " <StepResult: t=57600.0, dt=7200.0, source=30000.0>,\n",
       " <StepResult: t=64800.0, dt=7200.0, source=30000.0>,\n",
       " <StepResult: t=72000.0, dt=7200.0, source=30000.0>,\n",
       " <StepResult: t=79200.0, dt=7200.0, source=30000.0>,\n",
       " <StepResult: t=86400.0, dt=7200.0, source=30000.0>,\n",
       " <StepResult: t=93600.0, dt=7200.0, source=30000.0>,\n",
       " <StepResult: t=100800.0, dt=7200.0, source=30000.0>,\n",
       " <StepResult: t=108000.0, dt=7200.0, source=30000.0>,\n",
       " <StepResult: t=115200.0, dt=7200.0, source=30000.0>,\n",
       " <StepResult: t=122400.0, dt=7200.0, source=30000.0>,\n",
       " <StepResult: t=129600.0, dt=7200.0, source=30000.0>,\n",
       " <StepResult: t=136800.0, dt=7200.0, source=30000.0>,\n",
       " <StepResult: t=144000.0, dt=7200.0, source=30000.0>,\n",
       " <StepResult: t=151200.0, dt=7200.0, source=30000.0>,\n",
       " <StepResult: t=158400.0, dt=7200.0, source=30000.0>,\n",
       " <StepResult: t=165600.0, dt=7200.0, source=30000.0>,\n",
       " <StepResult: t=172800.0, dt=7200.0, source=30000.0>,\n",
       " <StepResult: t=180000.0, dt=7200.0, source=30000.0>,\n",
       " <StepResult: t=187200.0, dt=7200.0, source=30000.0>,\n",
       " <StepResult: t=194400.0, dt=7200.0, source=30000.0>,\n",
       " <StepResult: t=201600.0, dt=7200.0, source=30000.0>,\n",
       " <StepResult: t=208800.0, dt=7200.0, source=30000.0>,\n",
       " <StepResult: t=216000.0, dt=7200.0, source=30000.0>,\n",
       " <StepResult: t=223200.0, dt=7200.0, source=30000.0>,\n",
       " <StepResult: t=230400.0, dt=7200.0, source=30000.0>,\n",
       " <StepResult: t=237600.0, dt=7200.0, source=30000.0>,\n",
       " <StepResult: t=244800.0, dt=7200.0, source=30000.0>,\n",
       " <StepResult: t=252000.0, dt=7200.0, source=30000.0>,\n",
       " <StepResult: t=259200.0, dt=7200.0, source=30000.0>,\n",
       " <StepResult: t=266400.0, dt=7920.0, source=30000.0>,\n",
       " <StepResult: t=274320.0, dt=8712.0, source=30000.0>,\n",
       " <StepResult: t=283032.0, dt=9583.200000000012, source=30000.0>,\n",
       " <StepResult: t=292615.2, dt=10541.520000000019, source=30000.0>,\n",
       " <StepResult: t=303156.72000000003, dt=11595.67200000002, source=30000.0>,\n",
       " <StepResult: t=314752.39200000005, dt=12755.23920000001, source=30000.0>,\n",
       " <StepResult: t=327507.63120000006, dt=14030.763120000018, source=30000.0>,\n",
       " <StepResult: t=341538.3943200001, dt=15433.839432000008, source=30000.0>,\n",
       " <StepResult: t=356972.2337520001, dt=16977.223375200003, source=30000.0>,\n",
       " <StepResult: t=373949.4571272001, dt=18674.945712720044, source=30000.0>,\n",
       " <StepResult: t=392624.40283992013, dt=20542.440283992037, source=30000.0>,\n",
       " <StepResult: t=413166.8431239122, dt=22596.68431239121, source=30000.0>,\n",
       " <StepResult: t=435763.5274363034, dt=24856.352743630356, source=30000.0>,\n",
       " <StepResult: t=460619.88017993374, dt=27341.988017993397, source=30000.0>,\n",
       " <StepResult: t=487961.86819792714, dt=30076.186819792725, source=30000.0>,\n",
       " <StepResult: t=518038.05501771986, dt=33083.805501771974, source=30000.0>,\n",
       " <StepResult: t=551121.8605194918, dt=36392.18605194916, source=30000.0>,\n",
       " <StepResult: t=587514.046571441, dt=40031.4046571441, source=30000.0>,\n",
       " <StepResult: t=627545.4512285851, dt=44034.545122858486, source=30000.0>,\n",
       " <StepResult: t=671579.9963514436, dt=48437.99963514437, source=30000.0>,\n",
       " <StepResult: t=720017.995986588, dt=53281.79959865881, source=30000.0>,\n",
       " <StepResult: t=773299.7955852468, dt=58609.979558524676, source=30000.0>,\n",
       " <StepResult: t=831909.7751437714, dt=64470.97751437721, source=30000.0>,\n",
       " <StepResult: t=896380.7526581486, dt=70918.0752658149, source=30000.0>,\n",
       " <StepResult: t=967298.8279239635, dt=78009.88279239647, source=30000.0>,\n",
       " <StepResult: t=1045308.71071636, dt=85810.87107163598, source=30000.0>,\n",
       " <StepResult: t=1131119.581787996, dt=94391.9581787996, source=30000.0>,\n",
       " <StepResult: t=1225511.5399667956, dt=103831.1539966797, source=30000.0>,\n",
       " <StepResult: t=1329342.6939634753, dt=114214.26939634769, source=30000.0>,\n",
       " <StepResult: t=1443556.963359823, dt=125635.6963359823, source=30000.0>,\n",
       " <StepResult: t=1569192.6596958053, dt=138199.26596958074, source=30000.0>,\n",
       " <StepResult: t=1707391.925665386, dt=152019.1925665387, source=30000.0>,\n",
       " <StepResult: t=1859411.1182319247, dt=167221.11182319256, source=30000.0>,\n",
       " <StepResult: t=2026632.2300551173, dt=183943.22300551203, source=30000.0>,\n",
       " <StepResult: t=2210575.4530606293, dt=202337.54530606326, source=30000.0>,\n",
       " <StepResult: t=2412912.9983666926, dt=222571.29983666958, source=30000.0>,\n",
       " <StepResult: t=2635484.298203362, dt=244828.4298203364, source=30000.0>,\n",
       " <StepResult: t=2880312.7280236986, dt=269311.27280237013, source=30000.0>,\n",
       " <StepResult: t=3149624.0008260687, dt=296242.4000826068, source=30000.0>,\n",
       " <StepResult: t=3445866.4009086755, dt=325866.6400908679, source=30000.0>,\n",
       " <StepResult: t=3771733.0409995434, dt=358453.30409995466, source=30000.0>,\n",
       " <StepResult: t=4130186.345099498, dt=394298.6345099504, source=30000.0>,\n",
       " <StepResult: t=4524484.979609448, dt=433728.49796094466, source=30000.0>,\n",
       " <StepResult: t=4958213.477570393, dt=477101.3477570396, source=30000.0>,\n",
       " <StepResult: t=5435314.825327433, dt=524811.4825327434, source=30000.0>,\n",
       " <StepResult: t=5960126.307860176, dt=577292.6307860175, source=30000.0>,\n",
       " <StepResult: t=6537418.938646194, dt=604800.0, source=30000.0>,\n",
       " <StepResult: t=7142218.938646194, dt=604800.0, source=30000.0>,\n",
       " <StepResult: t=7747018.938646194, dt=604800.0, source=30000.0>,\n",
       " <StepResult: t=8351818.938646194, dt=604800.0, source=30000.0>,\n",
       " <StepResult: t=8956618.938646194, dt=604800.0, source=30000.0>,\n",
       " <StepResult: t=9561418.938646194, dt=604800.0, source=30000.0>,\n",
       " <StepResult: t=10166218.938646194, dt=604800.0, source=30000.0>,\n",
       " <StepResult: t=10771018.938646194, dt=604800.0, source=30000.0>,\n",
       " <StepResult: t=11375818.938646194, dt=604800.0, source=30000.0>,\n",
       " <StepResult: t=11980618.938646194, dt=604800.0, source=30000.0>,\n",
       " <StepResult: t=12585418.938646194, dt=604800.0, source=30000.0>,\n",
       " <StepResult: t=13190218.938646194, dt=604800.0, source=30000.0>,\n",
       " <StepResult: t=13795018.938646194, dt=604800.0, source=30000.0>,\n",
       " <StepResult: t=14399818.938646194, dt=604800.0, source=30000.0>,\n",
       " <StepResult: t=15004618.938646194, dt=604800.0, source=30000.0>,\n",
       " <StepResult: t=15609418.938646194, dt=604800.0, source=30000.0>,\n",
       " <StepResult: t=16214218.938646194, dt=604800.0, source=30000.0>,\n",
       " <StepResult: t=16819018.938646194, dt=604800.0, source=30000.0>,\n",
       " <StepResult: t=17423818.938646194, dt=604800.0, source=30000.0>,\n",
       " <StepResult: t=18028618.938646194, dt=604800.0, source=30000.0>,\n",
       " <StepResult: t=18633418.938646194, dt=604800.0, source=30000.0>,\n",
       " <StepResult: t=19238218.938646194, dt=604800.0, source=30000.0>,\n",
       " <StepResult: t=19843018.938646194, dt=604800.0, source=30000.0>,\n",
       " <StepResult: t=20447818.938646194, dt=604800.0, source=30000.0>,\n",
       " <StepResult: t=21052618.938646194, dt=604800.0, source=30000.0>,\n",
       " <StepResult: t=21657418.938646194, dt=604800.0, source=30000.0>,\n",
       " <StepResult: t=22262218.938646194, dt=604800.0, source=30000.0>,\n",
       " <StepResult: t=22867018.938646194, dt=604800.0, source=30000.0>,\n",
       " <StepResult: t=23471818.938646194, dt=604800.0, source=30000.0>,\n",
       " <StepResult: t=24076618.938646194, dt=604800.0, source=30000.0>,\n",
       " <StepResult: t=24681418.938646194, dt=604800.0, source=30000.0>,\n",
       " <StepResult: t=25286218.938646194, dt=604800.0, source=30000.0>,\n",
       " <StepResult: t=25891018.938646194, dt=0.0, source=30000.0>]"
      ]
     },
     "execution_count": 53,
     "metadata": {},
     "output_type": "execute_result"
    }
   ],
   "execution_count": 53
  },
  {
   "metadata": {
    "ExecuteTime": {
     "end_time": "2024-12-01T19:54:58.181141Z",
     "start_time": "2024-12-01T19:54:55.200912Z"
    }
   },
   "cell_type": "code",
   "source": "data = res.prepare_data()",
   "id": "b3a0acd182cc1374",
   "outputs": [],
   "execution_count": 54
  },
  {
   "metadata": {
    "ExecuteTime": {
     "end_time": "2024-12-01T19:55:01.903857Z",
     "start_time": "2024-12-01T19:55:01.900741Z"
    }
   },
   "cell_type": "code",
   "source": [
    "# params = json.load(open(results_path + os.listdir(results_path)[0] + \"/results.json\",'r'))\n",
    "with open(results_path + os.listdir(results_path)[0] + \"/results.json\", 'r') as f:\n",
    "    enr = f.read().split('\"fuel_enr\": ')[1].split(',')[0]\n",
    "params = {\n",
    "    'enr': float(enr),\n",
    "    \"materials\": {},\n",
    "    'geometry': {}\n",
    "}\n",
    "params"
   ],
   "id": "92fbeaed6eef459c",
   "outputs": [
    {
     "data": {
      "text/plain": [
       "{'enr': 3.0, 'materials': {}, 'geometry': {}}"
      ]
     },
     "execution_count": 55,
     "metadata": {},
     "output_type": "execute_result"
    }
   ],
   "execution_count": 55
  },
  {
   "metadata": {
    "ExecuteTime": {
     "end_time": "2024-12-01T19:55:03.488796Z",
     "start_time": "2024-12-01T19:55:03.480700Z"
    }
   },
   "cell_type": "code",
   "source": "pd.DataFrame(data)",
   "id": "7128d8191d8ddd63",
   "outputs": [
    {
     "data": {
      "text/plain": [
       "       timestamps     k_inf         heat          U235          U238\n",
       "0    0.000000e+00  1.162005     0.000287  4.028022e+23  7.551203e+24\n",
       "1    7.200000e+03  1.154110  1755.368716  4.027940e+23  7.551198e+24\n",
       "2    1.440000e+04  1.133163  1821.883134  4.027859e+23  7.551192e+24\n",
       "3    2.160000e+04  1.102314  1851.744021  4.027778e+23  7.551186e+24\n",
       "4    2.880000e+04  1.158265  1873.786080  4.027697e+23  7.551181e+24\n",
       "..            ...       ...          ...           ...           ...\n",
       "111  2.347182e+07  1.150004  2081.117720  3.773695e+23  7.531806e+24\n",
       "112  2.407662e+07  1.147819  2074.177615  3.767520e+23  7.531321e+24\n",
       "113  2.468142e+07  1.148330  2072.386204  3.761309e+23  7.530839e+24\n",
       "114  2.528622e+07  1.138081  2068.682258  3.755003e+23  7.530361e+24\n",
       "115  2.589102e+07  1.174285  2079.258723  3.748802e+23  7.529849e+24\n",
       "\n",
       "[116 rows x 5 columns]"
      ],
      "text/html": [
       "<div>\n",
       "<style scoped>\n",
       "    .dataframe tbody tr th:only-of-type {\n",
       "        vertical-align: middle;\n",
       "    }\n",
       "\n",
       "    .dataframe tbody tr th {\n",
       "        vertical-align: top;\n",
       "    }\n",
       "\n",
       "    .dataframe thead th {\n",
       "        text-align: right;\n",
       "    }\n",
       "</style>\n",
       "<table border=\"1\" class=\"dataframe\">\n",
       "  <thead>\n",
       "    <tr style=\"text-align: right;\">\n",
       "      <th></th>\n",
       "      <th>timestamps</th>\n",
       "      <th>k_inf</th>\n",
       "      <th>heat</th>\n",
       "      <th>U235</th>\n",
       "      <th>U238</th>\n",
       "    </tr>\n",
       "  </thead>\n",
       "  <tbody>\n",
       "    <tr>\n",
       "      <th>0</th>\n",
       "      <td>0.000000e+00</td>\n",
       "      <td>1.162005</td>\n",
       "      <td>0.000287</td>\n",
       "      <td>4.028022e+23</td>\n",
       "      <td>7.551203e+24</td>\n",
       "    </tr>\n",
       "    <tr>\n",
       "      <th>1</th>\n",
       "      <td>7.200000e+03</td>\n",
       "      <td>1.154110</td>\n",
       "      <td>1755.368716</td>\n",
       "      <td>4.027940e+23</td>\n",
       "      <td>7.551198e+24</td>\n",
       "    </tr>\n",
       "    <tr>\n",
       "      <th>2</th>\n",
       "      <td>1.440000e+04</td>\n",
       "      <td>1.133163</td>\n",
       "      <td>1821.883134</td>\n",
       "      <td>4.027859e+23</td>\n",
       "      <td>7.551192e+24</td>\n",
       "    </tr>\n",
       "    <tr>\n",
       "      <th>3</th>\n",
       "      <td>2.160000e+04</td>\n",
       "      <td>1.102314</td>\n",
       "      <td>1851.744021</td>\n",
       "      <td>4.027778e+23</td>\n",
       "      <td>7.551186e+24</td>\n",
       "    </tr>\n",
       "    <tr>\n",
       "      <th>4</th>\n",
       "      <td>2.880000e+04</td>\n",
       "      <td>1.158265</td>\n",
       "      <td>1873.786080</td>\n",
       "      <td>4.027697e+23</td>\n",
       "      <td>7.551181e+24</td>\n",
       "    </tr>\n",
       "    <tr>\n",
       "      <th>...</th>\n",
       "      <td>...</td>\n",
       "      <td>...</td>\n",
       "      <td>...</td>\n",
       "      <td>...</td>\n",
       "      <td>...</td>\n",
       "    </tr>\n",
       "    <tr>\n",
       "      <th>111</th>\n",
       "      <td>2.347182e+07</td>\n",
       "      <td>1.150004</td>\n",
       "      <td>2081.117720</td>\n",
       "      <td>3.773695e+23</td>\n",
       "      <td>7.531806e+24</td>\n",
       "    </tr>\n",
       "    <tr>\n",
       "      <th>112</th>\n",
       "      <td>2.407662e+07</td>\n",
       "      <td>1.147819</td>\n",
       "      <td>2074.177615</td>\n",
       "      <td>3.767520e+23</td>\n",
       "      <td>7.531321e+24</td>\n",
       "    </tr>\n",
       "    <tr>\n",
       "      <th>113</th>\n",
       "      <td>2.468142e+07</td>\n",
       "      <td>1.148330</td>\n",
       "      <td>2072.386204</td>\n",
       "      <td>3.761309e+23</td>\n",
       "      <td>7.530839e+24</td>\n",
       "    </tr>\n",
       "    <tr>\n",
       "      <th>114</th>\n",
       "      <td>2.528622e+07</td>\n",
       "      <td>1.138081</td>\n",
       "      <td>2068.682258</td>\n",
       "      <td>3.755003e+23</td>\n",
       "      <td>7.530361e+24</td>\n",
       "    </tr>\n",
       "    <tr>\n",
       "      <th>115</th>\n",
       "      <td>2.589102e+07</td>\n",
       "      <td>1.174285</td>\n",
       "      <td>2079.258723</td>\n",
       "      <td>3.748802e+23</td>\n",
       "      <td>7.529849e+24</td>\n",
       "    </tr>\n",
       "  </tbody>\n",
       "</table>\n",
       "<p>116 rows × 5 columns</p>\n",
       "</div>"
      ]
     },
     "execution_count": 56,
     "metadata": {},
     "output_type": "execute_result"
    }
   ],
   "execution_count": 56
  },
  {
   "metadata": {
    "ExecuteTime": {
     "end_time": "2024-12-01T19:55:04.760867Z",
     "start_time": "2024-12-01T19:55:04.758440Z"
    }
   },
   "cell_type": "code",
   "source": [
    "with open(results_path + os.listdir(results_path)[0] + '/materials.xml', 'rb') as f:\n",
    "    contents = f.read()\n",
    "    print(etree.fromstring(contents))"
   ],
   "id": "c7f1409a7e1ede2f",
   "outputs": [
    {
     "name": "stdout",
     "output_type": "stream",
     "text": [
      "<Element materials at 0x78bc7ba155c0>\n"
     ]
    }
   ],
   "execution_count": 57
  },
  {
   "metadata": {
    "ExecuteTime": {
     "end_time": "2024-12-01T19:55:06.671523Z",
     "start_time": "2024-12-01T19:55:06.668094Z"
    }
   },
   "cell_type": "code",
   "source": [
    "tree = etree.parse(results_path + os.listdir(results_path)[0] + '/materials.xml')\n",
    "tree.getroot().getchildren()"
   ],
   "id": "fd65a59c6341f182",
   "outputs": [
    {
     "data": {
      "text/plain": [
       "[<Element material at 0x78bc8e3e1e40>,\n",
       " <Element material at 0x78bc7c916240>,\n",
       " <Element material at 0x78bc9b742e00>]"
      ]
     },
     "execution_count": 58,
     "metadata": {},
     "output_type": "execute_result"
    }
   ],
   "execution_count": 58
  },
  {
   "metadata": {
    "ExecuteTime": {
     "end_time": "2024-12-01T19:55:07.863320Z",
     "start_time": "2024-12-01T19:55:07.860499Z"
    }
   },
   "cell_type": "code",
   "source": [
    "for child in tree.getroot():\n",
    "    print(child.get('name'), child.get('volume'), sep=\": \")\n",
    "    dens = child.find('density')\n",
    "    print(dens.get('value'), dens.get('units'), sep=' ')"
   ],
   "id": "f4efdcdc59669453",
   "outputs": [
    {
     "name": "stdout",
     "output_type": "stream",
     "text": [
      "Water: 155.4871681372756\n",
      "1 g/cm3\n",
      "Fuel: 429.76987501108374\n",
      "8.3 g/cm3\n",
      "Zircaloy-2: 573.0265000147781\n",
      "6.56 g/cm3\n"
     ]
    }
   ],
   "execution_count": 59
  },
  {
   "metadata": {
    "ExecuteTime": {
     "end_time": "2024-12-01T19:55:08.422607Z",
     "start_time": "2024-12-01T19:55:08.418902Z"
    }
   },
   "cell_type": "code",
   "source": [
    "def get_materials_info(results_path):\n",
    "    mats_path = os.path.join(results_path, \"materials.xml\")\n",
    "    tree = etree.parse(mats_path)\n",
    "    res = {\n",
    "        'water': None,\n",
    "        'fuel': None,\n",
    "        'cladding': None\n",
    "    }\n",
    "    for child in tree.getroot():\n",
    "        info = {\n",
    "            \"volume\": float(child.get('volume', 0)),\n",
    "            \"density\": float(child.find('density').get('value', 0)),\n",
    "        }\n",
    "        if child.get('name') == 'Water':\n",
    "            res['water'] = info\n",
    "        elif child.get('name') == 'Fuel':\n",
    "            info['id'] = child.get('id', '2')\n",
    "            res['fuel'] = info\n",
    "        elif child.get('name') == 'Zircaloy-2':\n",
    "            res['cladding'] = info\n",
    "        else:\n",
    "            print(\"Material ot found: \", child.get('name'))\n",
    "    return res"
   ],
   "id": "9ca8b85aba040982",
   "outputs": [],
   "execution_count": 60
  },
  {
   "metadata": {
    "ExecuteTime": {
     "end_time": "2024-12-01T19:55:10.132654Z",
     "start_time": "2024-12-01T19:55:10.129463Z"
    }
   },
   "cell_type": "code",
   "source": "get_materials_info(results_path + os.listdir(results_path)[0])",
   "id": "74ed8380bf326336",
   "outputs": [
    {
     "data": {
      "text/plain": [
       "{'water': {'volume': 155.4871681372756, 'density': 1.0},\n",
       " 'fuel': {'volume': 429.76987501108374, 'density': 8.3, 'id': '2'},\n",
       " 'cladding': {'volume': 573.0265000147781, 'density': 6.56}}"
      ]
     },
     "execution_count": 61,
     "metadata": {},
     "output_type": "execute_result"
    }
   ],
   "execution_count": 61
  },
  {
   "metadata": {
    "ExecuteTime": {
     "end_time": "2024-12-01T19:55:11.108773Z",
     "start_time": "2024-12-01T19:55:11.106114Z"
    }
   },
   "cell_type": "code",
   "source": "params",
   "id": "634b07789bd6ec45",
   "outputs": [
    {
     "data": {
      "text/plain": [
       "{'enr': 3.0, 'materials': {}, 'geometry': {}}"
      ]
     },
     "execution_count": 62,
     "metadata": {},
     "output_type": "execute_result"
    }
   ],
   "execution_count": 62
  },
  {
   "metadata": {
    "ExecuteTime": {
     "end_time": "2024-12-01T19:56:01.419104Z",
     "start_time": "2024-12-01T19:56:01.415521Z"
    }
   },
   "cell_type": "code",
   "source": [
    "def merge_context(exp_params: dict, mats: dict) -> dict:\n",
    "    res = {\n",
    "        'enr': exp_params['materials'].get('fuel_enr', exp_params.get('enr', 3))\n",
    "    }\n",
    "    for mat_name, mat_data in mats.items():\n",
    "        for key, value in mat_data.items():\n",
    "            res[f\"{mat_name}_{key}\"] = value\n",
    "    return res\n",
    "\n",
    "\n",
    "merge_context(params, get_materials_info(results_path + os.listdir(results_path)[0]))"
   ],
   "id": "1cea558b74a1d8b1",
   "outputs": [
    {
     "data": {
      "text/plain": [
       "{'enr': 3.0,\n",
       " 'water_volume': 155.4871681372756,\n",
       " 'water_density': 1.0,\n",
       " 'fuel_volume': 429.76987501108374,\n",
       " 'fuel_density': 8.3,\n",
       " 'fuel_id': '2',\n",
       " 'cladding_volume': 573.0265000147781,\n",
       " 'cladding_density': 6.56}"
      ]
     },
     "execution_count": 64,
     "metadata": {},
     "output_type": "execute_result"
    }
   ],
   "execution_count": 64
  },
  {
   "metadata": {
    "ExecuteTime": {
     "end_time": "2024-12-01T19:56:03.934505Z",
     "start_time": "2024-12-01T19:56:03.930921Z"
    }
   },
   "cell_type": "code",
   "source": [
    "def prepare_sample(res_dir: str, save_dir: str = 'neuro/data/') -> None:\n",
    "    mats_data = get_materials_info(res_dir)\n",
    "    # params = json.load(open(os.path.join(res_dir, \"results.json\"), 'r'))\n",
    "    with open(results_path + os.listdir(results_path)[0] + \"/results.json\", 'r') as f:\n",
    "        enr = f.read().split('\"fuel_enr\": ')[1].split(',')[0]\n",
    "    params = {\n",
    "        'enr': float(enr),\n",
    "        \"materials\": {},\n",
    "        'geometry': {}\n",
    "    }\n",
    "    context = merge_context(params, mats_data)\n",
    "    fuel_id = context.pop('fuel_id', '2')\n",
    "    dep_res = DepletionResultReader(os.path.join(res_dir, \"depletion_results.h5\"), fuel_mat=fuel_id)\n",
    "    df = pd.DataFrame(dep_res.prepare_data())\n",
    "    os.makedirs(save_dir, exist_ok=True)\n",
    "    json.dump(context, open(os.path.join(save_dir, \"context.json\"), 'w'))\n",
    "    df.to_csv(os.path.join(save_dir, \"data.csv\"))\n",
    "\n",
    "\n",
    "# test_res_path = os.listdir(results_path)[0]\n",
    "# prepare_sample(\n",
    "#     res_dir=os.path.join(results_path, test_res_path),\n",
    "#     save_dir=os.path.join('neuro/data/v2', test_res_path)\n",
    "# )"
   ],
   "id": "d39b50f54a57f11",
   "outputs": [],
   "execution_count": 65
  },
  {
   "metadata": {
    "ExecuteTime": {
     "end_time": "2024-12-01T21:01:38.508211Z",
     "start_time": "2024-12-01T19:56:28.354712Z"
    }
   },
   "cell_type": "code",
   "source": [
    "for result_dir in tqdm(os.listdir(results_path)):\n",
    "    res_dir = os.path.join(results_path, result_dir)\n",
    "    save_dir = os.path.join('neuro/data/v3', result_dir)\n",
    "    try:\n",
    "        prepare_sample(res_dir, save_dir)\n",
    "    except Exception as e:\n",
    "        print(f\"Failed to prepare sample: {res_dir}\", e)"
   ],
   "id": "98398107a8846ec6",
   "outputs": [
    {
     "name": "stderr",
     "output_type": "stream",
     "text": [
      "100%|██████████| 164/164 [1:05:10<00:00, 23.84s/it]\n"
     ]
    }
   ],
   "execution_count": 67
  },
  {
   "metadata": {
    "ExecuteTime": {
     "end_time": "2024-12-01T23:30:41.645513Z",
     "start_time": "2024-12-01T23:30:41.563735Z"
    }
   },
   "cell_type": "code",
   "source": [
    "for res_dir in tqdm(os.listdir(results_path)):\n",
    "    try:\n",
    "        with open(results_path + res_dir + \"/results.json\", 'r') as f:\n",
    "                enr = f.read().split('\"fuel_enr\": ')[1].split(',')[0]\n",
    "                print(enr)\n",
    "    except Exception as e:\n",
    "        print(f\"Failed to prepare sample: {res_dir}\", e)"
   ],
   "id": "463b114577ba394b",
   "outputs": [
    {
     "name": "stderr",
     "output_type": "stream",
     "text": [
      "100%|██████████| 164/164 [00:00<00:00, 2960.33it/s]"
     ]
    },
    {
     "name": "stdout",
     "output_type": "stream",
     "text": [
      "3.0\n",
      "3.0\n",
      "3.0\n",
      "3.0\n",
      "3.0\n",
      "3.0\n",
      "3.0\n",
      "3.0\n",
      "3.0\n",
      "3.0\n",
      "3.0\n",
      "3.0\n",
      "3.0\n",
      "3.0\n",
      "3.0\n",
      "3.0\n",
      "3.0\n",
      "3.0\n",
      "3.0\n",
      "3.0\n",
      "3.0\n",
      "3.0\n",
      "3.0\n",
      "3.0\n",
      "3.0\n",
      "3.0\n",
      "3.0\n",
      "3.0\n",
      "3.0\n",
      "3.0\n",
      "3.0\n",
      "3.0\n",
      "3.0\n",
      "3.0\n",
      "3.0\n",
      "3.0\n",
      "3.0\n",
      "3.0\n",
      "3.0\n",
      "3.0\n",
      "3.0\n",
      "3.0\n",
      "3.0\n",
      "3.0\n",
      "3.0\n",
      "3.0\n",
      "3.0\n",
      "3.0\n",
      "3.0\n",
      "3.0\n",
      "3.0\n",
      "3.0\n",
      "3.0\n",
      "3.0\n",
      "3.0\n",
      "3.0\n",
      "3.0\n",
      "3.0\n",
      "3.0\n",
      "3.0\n",
      "3.0\n",
      "3.0\n",
      "3.0\n",
      "3.0\n",
      "3.0\n",
      "3.0\n",
      "3.0\n",
      "3.0\n",
      "3.0\n",
      "3.0\n",
      "3.0\n",
      "3.0\n",
      "3.0\n",
      "3.0\n",
      "3.0\n",
      "3.0\n",
      "3.0\n",
      "3.0\n",
      "3.0\n",
      "3.0\n",
      "3.0\n",
      "3.0\n",
      "3.0\n",
      "3.0\n",
      "3.0\n",
      "3.0\n",
      "3.0\n",
      "3.0\n",
      "3.0\n",
      "3.0\n",
      "3.0\n",
      "3.0\n",
      "3.0\n",
      "3.0\n",
      "3.0\n",
      "3.0\n",
      "3.0\n",
      "3.0\n",
      "3.0\n",
      "3.0\n",
      "3.0\n",
      "3.0\n",
      "3.0\n",
      "3.0\n",
      "3.0\n",
      "3.0\n",
      "3.0\n",
      "3.0\n",
      "3.0\n",
      "3.0\n",
      "3.0\n",
      "3.0\n",
      "3.0\n",
      "3.0\n",
      "3.0\n",
      "3.0\n",
      "3.0\n",
      "3.0\n",
      "3.0\n",
      "3.0\n",
      "3.0\n",
      "3.0\n",
      "3.0\n",
      "3.0\n",
      "3.0\n",
      "3.0\n",
      "3.0\n",
      "3.0\n",
      "3.0\n",
      "3.0\n",
      "3.0\n",
      "3.0\n",
      "3.0\n",
      "3.0\n",
      "3.0\n",
      "3.0\n",
      "3.0\n",
      "3.0\n",
      "3.0\n",
      "3.0\n",
      "3.0\n",
      "3.0\n",
      "3.0\n",
      "3.0\n",
      "3.0\n",
      "3.0\n",
      "3.0\n",
      "3.0\n",
      "3.0\n",
      "3.0\n",
      "3.0\n",
      "3.0\n",
      "3.0\n",
      "3.0\n",
      "3.0\n",
      "3.0\n",
      "3.0\n",
      "3.0\n",
      "3.0\n",
      "3.0\n",
      "3.0\n",
      "3.0\n",
      "3.0\n",
      "3.0\n"
     ]
    },
    {
     "name": "stderr",
     "output_type": "stream",
     "text": [
      "\n"
     ]
    }
   ],
   "execution_count": 68
  },
  {
   "metadata": {},
   "cell_type": "code",
   "outputs": [],
   "execution_count": null,
   "source": "",
   "id": "d4def01f3573994a"
  }
 ],
 "metadata": {
  "kernelspec": {
   "display_name": "Python 3",
   "language": "python",
   "name": "python3"
  },
  "language_info": {
   "codemirror_mode": {
    "name": "ipython",
    "version": 2
   },
   "file_extension": ".py",
   "mimetype": "text/x-python",
   "name": "python",
   "nbconvert_exporter": "python",
   "pygments_lexer": "ipython2",
   "version": "2.7.6"
  }
 },
 "nbformat": 4,
 "nbformat_minor": 5
}
